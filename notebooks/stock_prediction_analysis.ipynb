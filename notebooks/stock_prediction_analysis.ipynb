{
 "cells": [
  {
   "cell_type": "code",
   "execution_count": null,
   "metadata": {},
   "outputs": [],
   "source": [
    "import pandas as pd\n",
    "import matplotlib.pyplot as plt\n",
    "from utils.data_preprocessing import load_data\n",
    "from models.ensemble_model import train_and_predict_ensemble\n",
    "from utils.visualization import plot_predictions\n",
    "from utils.evaluation import evaluate_predictions"
   ]
  },
  {
   "cell_type": "code",
   "execution_count": null,
   "metadata": {},
   "outputs": [],
   "source": [
    "# Load Data\n",
    "data_file = '../data/historical_data.csv'\n",
    "train_X, train_Y, test_X, test_Y, scaler = load_data(data_file)"
   ]
  },
  {
   "cell_type": "code",
   "execution_count": null,
   "metadata": {},
   "outputs": [],
   "source": [
    "# Train the ensemble model and get predictions\n",
    "ensemble_predictions = train_and_predict_ensemble(train_X, train_Y, test_X, scaler)"
   ]
  },
  {
   "cell_type": "code",
   "execution_count": null,
   "metadata": {},
   "outputs": [],
   "source": [
    "# Plot results\n",
    "actual_prices = scaler.inverse_transform(test_X.reshape(-1, 1))\n",
    "plot_predictions(actual_prices, ensemble_predictions, title='Ensemble Stock Price Prediction')"
   ]
  },
  {
   "cell_type": "code",
   "execution_count": null,
   "metadata": {},
   "outputs": [],
   "source": [
    "# Evaluate performance\n",
    "mse = evaluate_predictions(actual_prices, ensemble_predictions)\n",
    "print(f'Mean Squared Error: {mse}')"
   ]
  }
 ],
 "metadata": {
  "language_info": {
   "name": "python"
  }
 },
 "nbformat": 4,
 "nbformat_minor": 2
}
